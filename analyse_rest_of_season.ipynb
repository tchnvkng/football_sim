{
 "cells": [
  {
   "cell_type": "code",
   "execution_count": 1,
   "metadata": {},
   "outputs": [],
   "source": [
    "import matplotlib.pyplot as plt\n",
    "import numpy as np\n",
    "import pandas as pd\n",
    "from football_sim.football_sim import *\n",
    "from football_sim.footystats import get_data_and_merge\n",
    "import yaml\n",
    "import os\n",
    "%matplotlib inline"
   ]
  },
  {
   "cell_type": "code",
   "execution_count": 2,
   "metadata": {
    "scrolled": true
   },
   "outputs": [
    {
     "ename": "FileNotFoundError",
     "evalue": "[Errno 2] No such file or directory: '/Users/manuel/Library/Mobile Documents/com~apple~CloudDocs/Documents/football_sim\\\\config.yaml'",
     "output_type": "error",
     "traceback": [
      "\u001b[1;31m---------------------------------------------------------------------------\u001b[0m",
      "\u001b[1;31mFileNotFoundError\u001b[0m                         Traceback (most recent call last)",
      "\u001b[1;32m<ipython-input-2-cdb2d5b89b8a>\u001b[0m in \u001b[0;36m<module>\u001b[1;34m\u001b[0m\n\u001b[0;32m      4\u001b[0m \u001b[1;31m#get_data_and_merge()\u001b[0m\u001b[1;33m\u001b[0m\u001b[1;33m\u001b[0m\u001b[1;33m\u001b[0m\u001b[0m\n\u001b[0;32m      5\u001b[0m \u001b[1;33m\u001b[0m\u001b[0m\n\u001b[1;32m----> 6\u001b[1;33m \u001b[0msettings\u001b[0m \u001b[1;33m=\u001b[0m \u001b[0mSettings\u001b[0m\u001b[1;33m(\u001b[0m\u001b[0mos\u001b[0m\u001b[1;33m.\u001b[0m\u001b[0mpath\u001b[0m\u001b[1;33m.\u001b[0m\u001b[0mjoin\u001b[0m\u001b[1;33m(\u001b[0m\u001b[0mbase_dir\u001b[0m\u001b[1;33m,\u001b[0m \u001b[1;34m'config.yaml'\u001b[0m\u001b[1;33m)\u001b[0m\u001b[1;33m)\u001b[0m\u001b[1;33m\u001b[0m\u001b[1;33m\u001b[0m\u001b[0m\n\u001b[0m\u001b[0;32m      7\u001b[0m \u001b[1;33m\u001b[0m\u001b[0m\n\u001b[0;32m      8\u001b[0m \u001b[1;33m\u001b[0m\u001b[0m\n",
      "\u001b[1;32mD:\\football_sim\\football_sim\\football_sim.py\u001b[0m in \u001b[0;36m__init__\u001b[1;34m(self, settings_file)\u001b[0m\n\u001b[0;32m     16\u001b[0m \u001b[1;32mclass\u001b[0m \u001b[0mSettings\u001b[0m\u001b[1;33m:\u001b[0m\u001b[1;33m\u001b[0m\u001b[1;33m\u001b[0m\u001b[0m\n\u001b[0;32m     17\u001b[0m     \u001b[1;32mdef\u001b[0m \u001b[0m__init__\u001b[0m\u001b[1;33m(\u001b[0m\u001b[0mself\u001b[0m\u001b[1;33m,\u001b[0m\u001b[0msettings_file\u001b[0m\u001b[1;33m)\u001b[0m\u001b[1;33m:\u001b[0m\u001b[1;33m\u001b[0m\u001b[1;33m\u001b[0m\u001b[0m\n\u001b[1;32m---> 18\u001b[1;33m         \u001b[0mself\u001b[0m\u001b[1;33m.\u001b[0m\u001b[0mleague_info\u001b[0m \u001b[1;33m=\u001b[0m \u001b[0myaml\u001b[0m\u001b[1;33m.\u001b[0m\u001b[0msafe_load\u001b[0m\u001b[1;33m(\u001b[0m\u001b[0mopen\u001b[0m\u001b[1;33m(\u001b[0m\u001b[0msettings_file\u001b[0m\u001b[1;33m,\u001b[0m \u001b[1;34m'r'\u001b[0m\u001b[1;33m)\u001b[0m\u001b[1;33m)\u001b[0m\u001b[1;33m\u001b[0m\u001b[1;33m\u001b[0m\u001b[0m\n\u001b[0m\u001b[0;32m     19\u001b[0m         \u001b[0mself\u001b[0m\u001b[1;33m.\u001b[0m\u001b[0mdomestic_leagues\u001b[0m \u001b[1;33m=\u001b[0m \u001b[0mlist\u001b[0m\u001b[1;33m(\u001b[0m\u001b[0mself\u001b[0m\u001b[1;33m.\u001b[0m\u001b[0mleague_info\u001b[0m\u001b[1;33m.\u001b[0m\u001b[0mkeys\u001b[0m\u001b[1;33m(\u001b[0m\u001b[1;33m)\u001b[0m\u001b[1;33m)\u001b[0m\u001b[1;33m\u001b[0m\u001b[1;33m\u001b[0m\u001b[0m\n\u001b[0;32m     20\u001b[0m         \u001b[0mself\u001b[0m\u001b[1;33m.\u001b[0m\u001b[0meu_leagues\u001b[0m \u001b[1;33m=\u001b[0m \u001b[1;33m[\u001b[0m\u001b[1;34m'UCL'\u001b[0m\u001b[1;33m,\u001b[0m \u001b[1;34m'UEL'\u001b[0m\u001b[1;33m]\u001b[0m\u001b[1;33m\u001b[0m\u001b[1;33m\u001b[0m\u001b[0m\n",
      "\u001b[1;31mFileNotFoundError\u001b[0m: [Errno 2] No such file or directory: '/Users/manuel/Library/Mobile Documents/com~apple~CloudDocs/Documents/football_sim\\\\config.yaml'"
     ]
    }
   ],
   "source": [
    "base_dir = '/Users/manuel/Library/Mobile Documents/com~apple~CloudDocs/Documents/football_sim'\n",
    "\n",
    "\n",
    "#get_data_and_merge()\n",
    "\n",
    "settings = Settings(os.path.join(base_dir, 'config.yaml'))\n",
    "\n",
    "\n",
    "\n",
    "calibrator = Calibrator('2019-2020.pkl', settings,2019,redo=True)\n",
    "calibrator.create_all_teams()\n",
    "calibrator.process_data(verbose=False)\n"
   ]
  },
  {
   "cell_type": "code",
   "execution_count": null,
   "metadata": {},
   "outputs": [],
   "source": [
    "name = 'BPL'\n",
    "league = Season(name, calibrator,use_home_advantage=False)\n",
    "league.nr_cl = 4\n",
    "print('home advantage',league.home_advantage)\n",
    "data = calibrator.get_current_results(name)\n",
    "league.process_current_results(data)\n",
    "league.simulate_season(n_scenarios=int(1e5))\n",
    "league.season_report()"
   ]
  },
  {
   "cell_type": "code",
   "execution_count": null,
   "metadata": {},
   "outputs": [],
   "source": [
    "\n",
    "def plot_place_per_points(team_name,lgh):\n",
    "    p0=league.current_points[team_name]\n",
    "\n",
    "    i=league.team_id[team_name]\n",
    "\n",
    "    #p0=league.current_points['Wolverhampton']\n",
    "    #i = league.team_id['Wolverhampton']\n",
    "\n",
    "    P=(league.points_per_team[i,:]-p0).astype(int)\n",
    "    pp=np.unique(P)\n",
    "\n",
    "    prob4=[]\n",
    "    prob3=[]\n",
    "    prob5=[]\n",
    "    probp=[]\n",
    "    for p in pp:\n",
    "        ind =( P==p)\n",
    "        probp.append(ind.sum()/ind.size)\n",
    "        prob4.append(np.sum(league.place_per_team[i,ind]<=4)/ind.sum())\n",
    "        prob3.append(np.sum(league.place_per_team[i,ind]<=3)/ind.sum())\n",
    "        prob5.append(np.sum(league.place_per_team[i,ind]<=5)/ind.sum())\n",
    "\n",
    "    C = len([x for x in league.matches_to_sim if team_name in x])\n",
    "    #C=1\n",
    "    plt.figure(figsize=(16,9))\n",
    "    plt.plot(pp/C,prob3,label='<=3')\n",
    "    plt.plot(pp/C,prob4,label='<=4')\n",
    "    plt.plot(pp/C,prob5,label='<=5')\n",
    "    plt.plot(pp/C,probp)\n",
    "    plt.grid(True)\n",
    "    plt.legend()\n",
    "plot_place_per_points(league.teams['Manchester United'].name,league)\n",
    "#plot_place_per_points(league.teams['Wolverhampton'].name,league)"
   ]
  },
  {
   "cell_type": "code",
   "execution_count": null,
   "metadata": {},
   "outputs": [],
   "source": [
    "league.probability_grid();"
   ]
  },
  {
   "cell_type": "code",
   "execution_count": null,
   "metadata": {},
   "outputs": [],
   "source": [
    "league.points_probability_grid();"
   ]
  },
  {
   "cell_type": "code",
   "execution_count": null,
   "metadata": {},
   "outputs": [],
   "source": [
    "my_team = league.teams['Manchester United']\n",
    "\n",
    "names = []\n",
    "importance = []\n",
    "for n,m in league.matches_to_sim.items():\n",
    "    p=league.what_if(m,ref_team=my_team,place=4,or_better=True,show_plot=False)[0]\n",
    "    names.append(n)\n",
    "    importance.append(np.sum((p[1:]-p[0])**2))\n",
    "\n",
    "names=np.array(names)\n",
    "importance=np.array(importance)\n",
    "\n",
    "isort = np.argsort(-importance)\n",
    "names=names[isort]\n",
    "importance=importance[isort]\n",
    "league.team_report(my_team)"
   ]
  },
  {
   "cell_type": "code",
   "execution_count": null,
   "metadata": {},
   "outputs": [],
   "source": [
    "n_plot=20\n",
    "\n",
    "plt.figure(figsize=(16,9))\n",
    "plt.bar(np.arange(n_plot),importance[:n_plot])\n",
    "plt.xticks(np.arange(n_plot),names[:n_plot],rotation=90);"
   ]
  },
  {
   "cell_type": "code",
   "execution_count": null,
   "metadata": {},
   "outputs": [],
   "source": [
    "league.what_if(league.matches_to_sim['Leicester City v Manchester United'],ref_team=my_team,place=4,or_better=True)"
   ]
  },
  {
   "cell_type": "code",
   "execution_count": null,
   "metadata": {},
   "outputs": [],
   "source": [
    "match_id = league.matches_to_sim['Leicester City v Manchester United']['id']\n",
    "hg= league.simulated_home_goals[match_id,:]\n",
    "ag= league.simulated_away_goals[match_id,:]\n",
    "ind = hg<ag\n",
    "#i = league.team_id['Manchester United']\n",
    "#j = league.team_id['Chelsea']\n",
    "\n",
    "\n",
    "#ind = league.place_per_team[j,:]>league.place_per_team[i,:]\n",
    "\n",
    "#i = league.team_id['Liverpool']\n",
    "#ind = league.place_per_team[i,:]>1\n",
    "\n",
    "print(ind.sum(),100*ind.sum()/ind.size)\n",
    "league.season_report(ind=ind)\n",
    "\n",
    "#name = 'Manchester United'\n",
    "#ind = [x['id'] for x in league.matches_to_sim.values() if x['Home']==name]\n",
    "#n=(league.simulated_home_goals[ind,:]<league.simulated_away_goals[ind,:]).sum(axis=0)\n",
    "#ind = [x['id'] for x in league.matches_to_sim.values() if x['Away']==name]\n",
    "#n+=(league.simulated_home_goals[ind,:]>league.simulated_away_goals[ind,:]).sum(axis=0)\n",
    "\n",
    "#plt.bar(np.arange(20),100*np.bincount(n,minlength=20)/n.size);"
   ]
  },
  {
   "cell_type": "code",
   "execution_count": null,
   "metadata": {},
   "outputs": [],
   "source": [
    "league.probability_grid();"
   ]
  },
  {
   "cell_type": "code",
   "execution_count": null,
   "metadata": {},
   "outputs": [],
   "source": [
    "_date=[]\n",
    "_home = []\n",
    "_away = []\n",
    "_best_pred = []\n",
    "_best_pt = []\n",
    "_most_lik = []\n",
    "_most_lik_pts = []\n",
    "_res_pred = []\n",
    "_res_pred_pts = []\n",
    "def res_fun(x):\n",
    "    if x[0]>x[1]:\n",
    "        return 0\n",
    "    elif x[0]==x[1]:\n",
    "        return 1\n",
    "    else:\n",
    "        return 2\n",
    "for x in league.matches_to_sim.values():\n",
    "    if pd.to_datetime(x['Date'])<= pd.to_datetime('2020-02-02'):\n",
    "        \n",
    "        home = calibrator.teams[x['Home']]\n",
    "        away = calibrator.teams[x['Away']]\n",
    "        n_scenarios = int(1e5)\n",
    "        g = np.zeros([n_scenarios, 2])\n",
    "        g[:, 0], g[:, 1], _ = home.vs(away, n=n_scenarios, home_advantage=league.home_advantage)\n",
    "        p_home = (g[:,0]>g[:,1]).sum()/n_scenarios\n",
    "        p_away = (g[:,0]<g[:,1]).sum()/n_scenarios\n",
    "        p_draw = (g[:,0]==g[:,1]).sum()/n_scenarios\n",
    "        res = np.argmax([p_home,p_draw,p_away])\n",
    "        u, c = np.unique(g, axis=0, return_counts=True)\n",
    "        loc = (-c).argsort()\n",
    "        u = u[loc, :]\n",
    "        c = c[loc]\n",
    "        best_pt = 0\n",
    "        best_pred = None\n",
    "        def get_pts(pred):\n",
    "            ind40 = (g[:,0]==pred[0])&(g[:,1]==pred[1])\n",
    "            ind10 = (g[:,0]>g[:,1])&(pred[0]>pred[1])|(g[:,0]<g[:,1])&(pred[0]<pred[1])|(g[:,0]==g[:,1])&(pred[0]==pred[1])\n",
    "            points = np.zeros(n_scenarios)\n",
    "            points[ind10]=10\n",
    "            points[ind40]=40\n",
    "            return [points.mean()]\n",
    "        res_pred = None\n",
    "        for i in range(20):\n",
    "            _pred = u[i,:].astype(int)\n",
    "            pts = get_pts(_pred)\n",
    "            if (res_pred is None) and res_fun(_pred)==res:\n",
    "                res_pred = _pred\n",
    "                \n",
    "            if i == 0:\n",
    "                most_likely_pt = pts\n",
    "            if pts[0]>best_pt:\n",
    "                best_pred = _pred.astype(int)\n",
    "                best_pt = pts[0]\n",
    "        _date.append(x['Date'])\n",
    "        _home.append(x['Home'])\n",
    "        _away.append(x['Away'])\n",
    "        _best_pred.append(best_pred)\n",
    "        _best_pt.append(get_pts(best_pred)[0])\n",
    "        _most_lik.append(u[0,:].astype(int))\n",
    "        _most_lik_pts.append(get_pts(u[0,:])[0])\n",
    "        _res_pred.append(res_pred)\n",
    "        _res_pred_pts.append(get_pts(res_pred)[0])\n",
    "        \n",
    "        #print(x['Date'],'|',x['Home'],'v',x['Away'])\n",
    "        #print(best_pred,':',get_pts(best_pred),'|',u[0,:],':',most_likely_pt,'|',g.mean(axis=0),get_pts(np.round(g.mean(axis=0))))\n",
    "        #print('-'*100)\n"
   ]
  },
  {
   "cell_type": "code",
   "execution_count": null,
   "metadata": {},
   "outputs": [],
   "source": [
    "#df=pd.DataFrame({'date':_date,'home':_home,'away':_away,'best pred':_best_pred,' bestpoints':_best_pt,\n",
    "#                'MLS':_most_lik,'MLS points':_most_lik_pts})\n",
    "df=pd.DataFrame({'date':_date,'home':_home,'away':_away,'best pred':_best_pred,' bestpoints':_best_pt,\n",
    "                'RP':_res_pred,'RP points':_res_pred_pts,'MLS':_most_lik,'MLS points':_most_lik_pts,\n",
    "                 'actual_score':['[h, a]']*len(_date),'points earned':[0]*len(_date)})\n",
    "df=df.sort_values(by='date')\n",
    "df.to_csv('/Users/manuel/Desktop/predictions/predictions.csv',index=False)\n",
    "df"
   ]
  },
  {
   "cell_type": "code",
   "execution_count": null,
   "metadata": {},
   "outputs": [],
   "source": [
    "for i in range(50):\n",
    "    _pred = u[i,:]\n",
    "    pts = get_pts(_pred)\n",
    "    plt.plot(pts[0],pts[1],'.')"
   ]
  },
  {
   "cell_type": "code",
   "execution_count": null,
   "metadata": {},
   "outputs": [],
   "source": [
    "\n"
   ]
  },
  {
   "cell_type": "code",
   "execution_count": null,
   "metadata": {},
   "outputs": [],
   "source": []
  }
 ],
 "metadata": {
  "kernelspec": {
   "display_name": "Python 3",
   "language": "python",
   "name": "python3"
  },
  "language_info": {
   "codemirror_mode": {
    "name": "ipython",
    "version": 3
   },
   "file_extension": ".py",
   "mimetype": "text/x-python",
   "name": "python",
   "nbconvert_exporter": "python",
   "pygments_lexer": "ipython3",
   "version": "3.7.4"
  }
 },
 "nbformat": 4,
 "nbformat_minor": 2
}
