{
 "cells": [
  {
   "cell_type": "code",
   "execution_count": 1,
   "metadata": {},
   "outputs": [],
   "source": [
    "import pandas as pd\n",
    "import numpy as np\n",
    "import matplotlib\n",
    "import matplotlib.pyplot as plt\n",
    "import pickle\n",
    "import os\n",
    "import copy\n",
    "from football_sim.all import Calibrator, Season,Settings\n",
    "%matplotlib inline\n",
    "import platform"
   ]
  },
  {
   "cell_type": "code",
   "execution_count": 2,
   "metadata": {},
   "outputs": [],
   "source": [
    "base_dir = './'\n",
    "\n",
    "settings = Settings(os.path.join(base_dir, 'config.yaml'))"
   ]
  },
  {
   "cell_type": "code",
   "execution_count": null,
   "metadata": {},
   "outputs": [],
   "source": [
    "calib = Calibrator(settings)\n",
    "calib.download_all_data() \n",
    "calib.process_data()"
   ]
  },
  {
   "cell_type": "code",
   "execution_count": null,
   "metadata": {},
   "outputs": [],
   "source": [
    "year = 2020\n",
    "league = 'BPL'\n",
    "as_of=pd.to_datetime('2020-01-01')\n",
    "as_of=None\n",
    "calib.calibrate_teams(league,year,as_of=as_of)"
   ]
  },
  {
   "cell_type": "code",
   "execution_count": null,
   "metadata": {},
   "outputs": [],
   "source": [
    "season = Season(league, year,calib, use_home_advantage=False,as_of=as_of)\n",
    "print('home advantage', season.home_advantage)\n",
    "\n",
    "season.process_current_results()\n",
    "season.simulate_season(n_scenarios=100000)\n",
    "\n",
    "season.process_simulation()"
   ]
  },
  {
   "cell_type": "code",
   "execution_count": null,
   "metadata": {},
   "outputs": [],
   "source": [
    "\n",
    "ind=None\n",
    "#i=season.match_id['bpl_burnley_manchesterunited_2021-01-12']\n",
    "#hg=season.simulated_home_goals[i,:]\n",
    "#ag=season.simulated_away_goals[i,:]\n",
    "#ind=ag>hg\n",
    "#i=season.match_id['bpl_liverpool_manchesterunited_2021-01-17']\n",
    "#ind=None\n",
    "#hg=season.simulated_home_goals[i,:]\n",
    "#ag=season.simulated_away_goals[i,:]\n",
    "#ind = ind&(ag>=hg)\n",
    "#print(100*ind.sum()/ind.size)\n",
    "# ind= None\n",
    "#i = season.team_id['Manchester United']\n",
    "#ind = season.place_per_team[i,:]<=4\n",
    "ind = None\n",
    "sr=season.season_report(ind=ind)\n",
    "sr"
   ]
  },
  {
   "cell_type": "code",
   "execution_count": null,
   "metadata": {},
   "outputs": [],
   "source": [
    "calib.fixtures[0] in calib.fixtures"
   ]
  },
  {
   "cell_type": "code",
   "execution_count": null,
   "metadata": {},
   "outputs": [],
   "source": [
    "plt.plot(sr['rating'],sr['Points (mean)'],'.')"
   ]
  },
  {
   "cell_type": "code",
   "execution_count": null,
   "metadata": {
    "scrolled": false
   },
   "outputs": [],
   "source": [
    "team_names = list(season.teams.keys())\n",
    "y=[season.teams[x].offense for x in team_names]\n",
    "x=[1/season.teams[x].defense for x in team_names]\n",
    "plt.figure(figsize=(10,10))\n",
    "#plt.plot(x,y,'.')\n",
    "c=0\n",
    "for x_,y_,name in zip(x,y,team_names):\n",
    "    team = season.teams[name]\n",
    "    if dict(sr['CL'])[name]>20:\n",
    "        print(name)\n",
    "        if c<=9:\n",
    "            sym='-'\n",
    "        else:\n",
    "            sym='-'\n",
    "        p=plt.plot(1/np.array(team.defense_hist),team.offense_hist,sym,label=name,color='C{:d}'.format(c),linewidth=1)\n",
    "        c+=1\n",
    "        plt.plot(x_,y_,'o',color=p[0].get_color())\n",
    "        name_=''.join([x[:3] for x in name.split()])\n",
    "        plt.text(x_+0.03,y_,name_,fontsize=9,color=p[0].get_color())\n",
    "plt.grid(True)\n",
    "plt.ylabel('off')\n",
    "plt.xlabel('def')\n",
    "#plt.legend()"
   ]
  },
  {
   "cell_type": "code",
   "execution_count": null,
   "metadata": {},
   "outputs": [],
   "source": [
    "season.probability_grid(ind=ind);"
   ]
  },
  {
   "cell_type": "code",
   "execution_count": null,
   "metadata": {
    "scrolled": false
   },
   "outputs": [],
   "source": [
    "season.points_probability_grid(ind=ind);"
   ]
  },
  {
   "cell_type": "code",
   "execution_count": null,
   "metadata": {},
   "outputs": [],
   "source": [
    "my_team = season.teams['Manchester United']\n",
    "\n",
    "\"\"\"\n",
    "names = []\n",
    "importance = []\n",
    "home=[]\n",
    "away=[]\n",
    "\n",
    "for m in season.matches_to_sim:\n",
    "    #p=season.importance(m,ref_team=my_team,place=4,or_better=True)\n",
    "    names.append(m.id)\n",
    "    #importance.append(np.sum((p[1:]-p[0])**2))\n",
    "    importance.append(season.importance(m,ref_team=my_team,place=4,or_better=True))\n",
    "    home.append(m.home_team_name)\n",
    "    away.append(m.away_team_name)\n",
    "\n",
    "names=np.array(names)\n",
    "importance=np.array(importance)\n",
    "\n",
    "isort = np.argsort(-importance)\n",
    "names=names[isort]\n",
    "importance=importance[isort]\n",
    "season.team_report(my_team,places=[1,2,3,4])\n",
    "\"\"\"\n",
    "#matches_to_report = [m for m in season.matches_to_sim if 'manchesterunited' in m.id]\n",
    "matches_to_report = [m for m in season.matches_to_sim ]\n",
    "\n",
    "df = pd.DataFrame({'date':[m.date for m in matches_to_report],\n",
    "                   'id':[m.id for m in matches_to_report],\n",
    "                   'home':[m.home_team_name for m in matches_to_report],\n",
    "                   'away':[m.away_team_name for m in matches_to_report],\n",
    "              'home win':[m.forecast_home_wins for m in matches_to_report],\n",
    "             'away win':[m.forecast_away_wins for m in matches_to_report],\n",
    "             'draw':[m.forecast_draw for m in matches_to_report],\n",
    "            'We Win': [-100+(100+m.forecast_home_wins)*(m.home_team_name ==my_team.name)+(100+m.forecast_away_wins)*(m.away_team_name ==my_team.name) for m in matches_to_report],\n",
    "            'home goals':[m.forecast_home_goals for m in matches_to_report],\n",
    "             'away goals':[m.forecast_away_goals for m in matches_to_report],\n",
    "            'p_cl':[np.round(season.what_if(m,ref_team=my_team,place=4,or_better=True,show_plot=False)[0]).astype(int) for m in matches_to_report],\n",
    "             'importance':[100*season.importance(m,ref_team=my_team,place=4,or_better=True) for m in matches_to_report]})\n",
    "\n",
    "#df.sort_values(by='importance',ascending=False)\n",
    "df['importance']=(df['importance']-df['importance'].min())/(df['importance'].max()-df['importance'].min())\n",
    "cols = [x for x in df.columns if x not in ['id']]\n",
    "df[cols].sort_values(by='importance',ascending=False)\n",
    "df.loc[df['importance']>=0.5,cols]\n",
    "\n"
   ]
  },
  {
   "cell_type": "code",
   "execution_count": null,
   "metadata": {},
   "outputs": [],
   "source": [
    "n_plot=28\n",
    "\n",
    "plt.figure(figsize=(16,9))\n",
    "df2=df.sort_values(by='importance',ascending=False).head(n_plot).copy()\n",
    "plt.bar(np.arange(n_plot),df2['importance'].values)\n",
    "plt.xticks(np.arange(n_plot),df2['id'].values,rotation=90);"
   ]
  },
  {
   "cell_type": "code",
   "execution_count": null,
   "metadata": {},
   "outputs": [],
   "source": [
    "i=season.match_id['bpl_liverpool_manchesterunited_2021-01-17']\n",
    "match = season.matches_to_sim[i]\n",
    "mufc = season.teams['Manchester United']\n",
    "#wh = season.teams['West Ham United']\n",
    "season.what_if(match,ref_team=mufc,place=4,or_better=True)"
   ]
  },
  {
   "cell_type": "code",
   "execution_count": null,
   "metadata": {},
   "outputs": [],
   "source": [
    "match.home_team.outcomes_vs(match.away_team)"
   ]
  },
  {
   "cell_type": "code",
   "execution_count": null,
   "metadata": {},
   "outputs": [],
   "source": [
    "home_team=match.home_team\n",
    "away_team=match.away_team\n",
    "if home_team.name == 'Manchester United':\n",
    "    print('home')\n",
    "    l_mu=home_team.offense*away_team.defense/90\n",
    "    l_other=home_team.defense*away_team.offense/90\n",
    "    other_team_name = away_team.name\n",
    "elif away_team.name == 'Manchester United':\n",
    "    print('away')\n",
    "    l_mu=home_team.defense*away_team.offense/90\n",
    "    l_other=home_team.offense*away_team.defense/90\n",
    "    other_team_name = home_team.name\n",
    "else:\n",
    "    print('no MU')\n",
    "\n",
    "\n",
    "g_mu=np.random.exponential(1/l_mu,[100000,100])\n",
    "g_other=np.random.exponential(1/l_other,[100000,100])\n",
    "ng_mu=(g_mu.cumsum(axis=1)<90).sum(axis=1)\n",
    "ng_other=(g_other.cumsum(axis=1)<90).sum(axis=1)\n",
    "\n",
    "\n",
    "\n",
    "u_res,n=np.unique(np.array([ng_mu,ng_other]),axis=1,return_counts=True)\n",
    "#isort=np.argsort(-n)\n",
    "#u_res[:,isort[:10]]\n",
    "points_for_right_result = 2\n",
    "points_for_right_score = 3\n",
    "\n",
    "points=[]\n",
    "\n",
    "for i in range(u_res.shape[1]):\n",
    "    guess = u_res[:,i]\n",
    "    ind_right_score = (ng_mu==guess[0])&((ng_other==guess[1]))\n",
    "    points_=points_for_right_score*ind_right_score.mean()\n",
    "    #points_=0\n",
    "    ind_right_result = (guess[0]>guess[1])&(ng_mu>ng_other)\n",
    "    ind_right_result = ind_right_result | (guess[0]==guess[1])&(ng_mu==ng_other)\n",
    "    ind_right_result = ind_right_result | (guess[0]<guess[1])&(ng_mu<ng_other)\n",
    "    points_+=points_for_right_result*ind_right_result.mean()\n",
    "    points.append(points_)\n",
    "    #g_mu[:,0]\n",
    "    \n",
    "points=np.array(points)\n",
    "\n",
    "\n",
    "df=pd.DataFrame({'Manchester United':u_res[0,:],other_team_name:u_res[1,:],'Points':points})\n",
    "df=df.sort_values(by='Points',ascending=False)\n",
    "df.head(10)"
   ]
  },
  {
   "cell_type": "code",
   "execution_count": null,
   "metadata": {},
   "outputs": [],
   "source": [
    "season.matches_remaining(team_filter=['Manchester U'])"
   ]
  },
  {
   "cell_type": "code",
   "execution_count": null,
   "metadata": {},
   "outputs": [],
   "source": [
    "ax=None\n",
    "for team in calib.teams.values():\n",
    "    if team.name in ['Manchester United','Leicester City','Chelsea']:\n",
    "    #if team.name in ['BPLHome','BPLAway']:\n",
    "        ax=team.plt(ax=ax)\n",
    "        #ax[0].axvline(x=37)\n",
    "        #ax[1].axvline(x=37)\n"
   ]
  },
  {
   "cell_type": "code",
   "execution_count": null,
   "metadata": {},
   "outputs": [],
   "source": [
    "df=pd.read_csv('https://projects.fivethirtyeight.com/soccer-api/club/spi_global_rankings.csv')\n",
    "df=df.set_index('name')\n",
    "df = df.join(sr).reset_index()[['name','off','def','Off','Deff']].dropna()\n",
    "df.head(10)"
   ]
  },
  {
   "cell_type": "code",
   "execution_count": null,
   "metadata": {},
   "outputs": [],
   "source": [
    "plt.plot(df['off'],df['Off'],'.')\n",
    "poly = np.polyfit(df['off'],df['Off'],1)\n",
    "plt.plot(df['off'],np.polyval(poly,df['off']))\n",
    "poly"
   ]
  },
  {
   "cell_type": "code",
   "execution_count": null,
   "metadata": {},
   "outputs": [],
   "source": [
    "plt.plot(df['def'],df['Deff'],'.')\n",
    "poly = np.polyfit(df['def'],df['Deff'],1)\n",
    "plt.plot(df['def'],np.polyval(poly,df['def']))\n",
    "poly"
   ]
  },
  {
   "cell_type": "code",
   "execution_count": null,
   "metadata": {},
   "outputs": [],
   "source": [
    "plt.plot(df['off']/df['def'],df['Off']/df['Deff'],'.')"
   ]
  },
  {
   "cell_type": "code",
   "execution_count": null,
   "metadata": {},
   "outputs": [],
   "source": []
  }
 ],
 "metadata": {
  "kernelspec": {
   "display_name": "Python 3",
   "language": "python",
   "name": "python3"
  },
  "language_info": {
   "codemirror_mode": {
    "name": "ipython",
    "version": 3
   },
   "file_extension": ".py",
   "mimetype": "text/x-python",
   "name": "python",
   "nbconvert_exporter": "python",
   "pygments_lexer": "ipython3",
   "version": "3.7.4"
  }
 },
 "nbformat": 4,
 "nbformat_minor": 4
}
